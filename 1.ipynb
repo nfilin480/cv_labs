{
 "cells": [
  {
   "cell_type": "markdown",
   "metadata": {},
   "source": [
    "1.1"
   ]
  },
  {
   "cell_type": "code",
   "execution_count": 6,
   "metadata": {},
   "outputs": [
    {
     "name": "stdout",
     "output_type": "stream",
     "text": [
      "Среднее значение: 48.59\n",
      "Минимум: 10.00\n",
      "Максимум: 90.00\n"
     ]
    }
   ],
   "source": [
    "import random\n",
    "\n",
    "# Создаем список из 100 элементов и округляем их до сотых\n",
    "numbers = [round(random.uniform(0, 100), 2) for _ in range(100)]\n",
    "\n",
    "# Заменяем все числа меньше 10 на 10\n",
    "numbers = [10 if num < 10 else num for num in numbers]\n",
    "\n",
    "# Заменяем все числа больше 90 на 90\n",
    "numbers = [90 if num > 90 else num for num in numbers]\n",
    "\n",
    "# Находим среднее значение, минимум и максимум\n",
    "average = sum(numbers) / len(numbers)\n",
    "minimum = min(numbers)\n",
    "maximum = max(numbers)\n",
    "\n",
    "# Выводим результаты\n",
    "print(f\"Среднее значение: {average:.2f}\")\n",
    "print(f\"Минимум: {minimum:.2f}\")\n",
    "print(f\"Максимум: {maximum:.2f}\")"
   ]
  },
  {
   "cell_type": "markdown",
   "metadata": {},
   "source": [
    "1.2\n"
   ]
  },
  {
   "cell_type": "code",
   "execution_count": 7,
   "metadata": {},
   "outputs": [],
   "source": [
    "import numpy as np"
   ]
  },
  {
   "cell_type": "code",
   "execution_count": 9,
   "metadata": {},
   "outputs": [
    {
     "name": "stdout",
     "output_type": "stream",
     "text": [
      "[[1. 1. 1. 1. 1. 1. 1. 1. 1. 1.]\n",
      " [1. 2. 2. 2. 2. 2. 2. 2. 2. 1.]\n",
      " [1. 2. 3. 3. 3. 3. 3. 3. 2. 1.]\n",
      " [1. 2. 3. 4. 4. 4. 4. 3. 2. 1.]\n",
      " [1. 2. 3. 4. 5. 5. 4. 3. 2. 1.]\n",
      " [1. 2. 3. 4. 5. 5. 4. 3. 2. 1.]\n",
      " [1. 2. 3. 4. 4. 4. 4. 3. 2. 1.]\n",
      " [1. 2. 3. 3. 3. 3. 3. 3. 2. 1.]\n",
      " [1. 2. 2. 2. 2. 2. 2. 2. 2. 1.]\n",
      " [1. 1. 1. 1. 1. 1. 1. 1. 1. 1.]]\n"
     ]
    }
   ],
   "source": [
    "m = int(input('m: '))\n",
    "n = int(input('n: '))\n",
    "\n",
    "# Создаем матрицу m x n\n",
    "matrix = np.zeros((m, n))\n",
    "\n",
    "# Заполняем ячейки по условию\n",
    "for i in range(m):\n",
    "    for j in range(n):\n",
    "        matrix[i, j] = min(i + 1, m - i, j + 1, n - j)\n",
    "\n",
    "# Выводим полученную матрицу\n",
    "print(matrix)"
   ]
  },
  {
   "cell_type": "markdown",
   "metadata": {},
   "source": [
    "1.3\n"
   ]
  },
  {
   "cell_type": "code",
   "execution_count": 14,
   "metadata": {},
   "outputs": [
    {
     "name": "stdout",
     "output_type": "stream",
     "text": [
      "Количество элементов: 32\n",
      "Среднее значение: 28.30\n",
      "Максимальный элемент: 32.01\n",
      "Минимальный элемент: 24.16\n",
      "Среднеквадратичное отклонение: 2.57\n"
     ]
    }
   ],
   "source": [
    "# Создаем два массива по 30 случайных чисел\n",
    "array1 = np.random.uniform(15, 33, 30)\n",
    "array2 = np.random.uniform(15, 33, 30)\n",
    "\n",
    "# Объединяем массивы в один\n",
    "combined_array = np.concatenate((array1, array2))\n",
    "\n",
    "# Фильтруем значения, которые больше 24\n",
    "filtered_array = combined_array[combined_array > 24]\n",
    "\n",
    "# Находим количество элементов в итоговом массиве\n",
    "count = len(filtered_array)\n",
    "\n",
    "# Находим среднее значение\n",
    "average = np.mean(filtered_array)\n",
    "\n",
    "# Находим максимальный и минимальный элементы\n",
    "maximum = np.max(filtered_array)\n",
    "minimum = np.min(filtered_array)\n",
    "\n",
    "# Находим среднеквадратичное отклонение\n",
    "std = np.sqrt(np.mean(np.square(filtered_array - average)))\n",
    "\n",
    "# Выводим результаты\n",
    "print(f\"Количество элементов: {count}\")\n",
    "print(f\"Среднее значение: {average:.2f}\")\n",
    "print(f\"Максимальный элемент: {maximum:.2f}\")\n",
    "print(f\"Минимальный элемент: {minimum:.2f}\")\n",
    "print(f\"Среднеквадратичное отклонение: {std:.2f}\")"
   ]
  },
  {
   "cell_type": "markdown",
   "metadata": {},
   "source": [
    "1.4"
   ]
  },
  {
   "cell_type": "code",
   "execution_count": 15,
   "metadata": {},
   "outputs": [],
   "source": [
    "import cv2\n",
    "import numpy as np"
   ]
  },
  {
   "cell_type": "code",
   "execution_count": 16,
   "metadata": {},
   "outputs": [],
   "source": [
    "def copy_image(path: str, yuv_change: list, hsv_change: list):\n",
    "\n",
    "    # Загружаем изображение\n",
    "    img = cv2.imread(path)\n",
    "\n",
    "    # Проверяем, что изображение не менее 1000x800 пикселей\n",
    "    if img.shape[0] < 1000 or img.shape[1] < 800:\n",
    "        print(\"Изображение должно быть не менее 1000x800 пикселей.\")\n",
    "        return\n",
    "\n",
    "    # Конвертирование изображения в YUV и HSV\n",
    "    yuv_img = cv2.cvtColor(img, cv2.COLOR_BGR2YUV)\n",
    "    hsv_img = cv2.cvtColor(img, cv2.COLOR_BGR2HSV) # Hue, Saturation, Value\n",
    "\n",
    "    # Изменяем значения Y, U, V в YUV\n",
    "    yuv_img[:, :] = yuv_change\n",
    "    \n",
    "    # Изменяем значения H, S, V в HSV\n",
    "    hsv_img[:, :] = hsv_change\n",
    "\n",
    "    # Преобразуем обратно в BGR\n",
    "    yuv_bgr_img = cv2.cvtColor(yuv_img, cv2.COLOR_YUV2BGR)\n",
    "    hsv_bgr_img = cv2.cvtColor(hsv_img, cv2.COLOR_HSV2BGR)\n",
    "\n",
    "    # Выводим изображения\n",
    "    cv2.imshow('Original', img)\n",
    "    cv2.imshow('YUV', yuv_bgr_img)\n",
    "    cv2.imshow('HSV', hsv_bgr_img)\n",
    "    cv2.waitKey(0)\n",
    "    cv2.destroyAllWindows()"
   ]
  },
  {
   "cell_type": "code",
   "execution_count": 17,
   "metadata": {},
   "outputs": [],
   "source": [
    "yuv_change = [100, 100, 150]\n",
    "hsv_change = [100, 100, 150]\n",
    "\n",
    "copy_image('./cat.jpg', yuv_change, hsv_change)"
   ]
  }
 ],
 "metadata": {
  "kernelspec": {
   "display_name": "cv_labs",
   "language": "python",
   "name": "python3"
  },
  "language_info": {
   "codemirror_mode": {
    "name": "ipython",
    "version": 3
   },
   "file_extension": ".py",
   "mimetype": "text/x-python",
   "name": "python",
   "nbconvert_exporter": "python",
   "pygments_lexer": "ipython3",
   "version": "3.7.6"
  }
 },
 "nbformat": 4,
 "nbformat_minor": 2
}
