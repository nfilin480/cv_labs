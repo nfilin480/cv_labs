{
 "cells": [
  {
   "cell_type": "code",
   "execution_count": 2,
   "metadata": {},
   "outputs": [],
   "source": [
    "import cv2\n",
    "import numpy as np"
   ]
  },
  {
   "cell_type": "markdown",
   "metadata": {},
   "source": [
    "№1"
   ]
  },
  {
   "cell_type": "code",
   "execution_count": 33,
   "metadata": {},
   "outputs": [
    {
     "name": "stdout",
     "output_type": "stream",
     "text": [
      "min_val: 0, max_val: 255\n",
      "new_min_val: 50, new_max_val: 120\n"
     ]
    }
   ],
   "source": [
    "# Загрузка изображения\n",
    "img = cv2.imread('cat.jpg')\n",
    "\n",
    "# Преобразование изображения в grayscale\n",
    "gray = cv2.cvtColor(img, cv2.COLOR_BGR2GRAY)\n",
    "\n",
    "# Контрастирование изображения\n",
    "min_val = np.min(gray)\n",
    "max_val = np.max(gray)\n",
    "print(f'min_val: {min_val}, max_val: {max_val}')\n",
    "\n",
    "# Установка нового диапазона интенсивности\n",
    "new_min_val = 50\n",
    "new_max_val = 120\n",
    "\n",
    "alpha = (new_max_val - new_min_val) / (max_val - min_val)\n",
    "\n",
    "# Преобразование интенсивности пикселей\n",
    "gray = cv2.multiply(gray, alpha)\n",
    "new_gray = cv2.add(gray, new_min_val)\n",
    "\n",
    "print(f'new_min_val: {np.min(new_gray)}, new_max_val: {np.max(new_gray)}')\n",
    "\n",
    "cv2.imshow(\"Image\", new_gray)\n",
    "cv2.waitKey(0)\n",
    "cv2.destroyAllWindows()"
   ]
  },
  {
   "cell_type": "markdown",
   "metadata": {},
   "source": [
    "№2"
   ]
  },
  {
   "cell_type": "code",
   "execution_count": 34,
   "metadata": {},
   "outputs": [
    {
     "name": "stdout",
     "output_type": "stream",
     "text": [
      "min_val: 0, max_val: 255\n"
     ]
    }
   ],
   "source": [
    "old_gray = cv2.add(new_gray, -new_min_val)\n",
    "old_gray = cv2.divide(old_gray, alpha)\n",
    "\n",
    "print(f'min_val: {np.min(old_gray)}, max_val: {np.max(old_gray)}')\n",
    "\n",
    "cv2.imshow(\"Image\", old_gray)\n",
    "cv2.waitKey(0)\n",
    "cv2.destroyAllWindows()\n"
   ]
  },
  {
   "cell_type": "markdown",
   "metadata": {},
   "source": [
    "№3"
   ]
  },
  {
   "cell_type": "code",
   "execution_count": 35,
   "metadata": {},
   "outputs": [],
   "source": [
    "img = cv2.imread('cat.jpg')\n",
    "contrast = 1.5\n",
    "\n",
    "brightness = int(round(255*(1-contrast)/2))\n",
    "img_contrast = cv2.addWeighted(img, contrast, img, 0, brightness)\n",
    "\n",
    "cv2.imshow(\"Image\", img_contrast)\n",
    "cv2.waitKey(0)\n",
    "cv2.destroyAllWindows()"
   ]
  },
  {
   "cell_type": "markdown",
   "metadata": {},
   "source": [
    "№4"
   ]
  },
  {
   "cell_type": "code",
   "execution_count": null,
   "metadata": {},
   "outputs": [],
   "source": []
  },
  {
   "cell_type": "code",
   "execution_count": 103,
   "metadata": {},
   "outputs": [],
   "source": [
    "# Загрузите изображение\n",
    "img = cv2.imread('cat.jpg')\n",
    "\n",
    "# Создайте маску для соляризации\n",
    "mask = cv2.cvtColor(img, cv2.COLOR_BGR2GRAY)#[:, :, 1]\n",
    "\n",
    "# Выполните соляризацию с различными значениями k\n",
    "k = 1\n",
    "#img_solarized = img.astype(np.float32) * k * (np.max(img) - img)\n",
    "\n",
    "f = lambda x: k * x * (np.max(mask) - x)\n",
    "\n",
    "img_solarized = f(mask.astype(np.uint8))\n",
    "cv2.imshow(\"Image\", img_solarized)\n",
    "cv2.waitKey(0)\n",
    "cv2.destroyAllWindows()"
   ]
  },
  {
   "cell_type": "markdown",
   "metadata": {},
   "source": [
    "№5"
   ]
  },
  {
   "cell_type": "code",
   "execution_count": 117,
   "metadata": {},
   "outputs": [],
   "source": [
    "img = cv2.imread('cat_text.jpg')\n",
    "\n",
    "output = cv2.blur(img, (12, 12))\n",
    "\n",
    "cv2.imshow(\"Image\", output)\n",
    "cv2.waitKey(0)\n",
    "cv2.destroyAllWindows()\n"
   ]
  },
  {
   "cell_type": "markdown",
   "metadata": {},
   "source": [
    "№6"
   ]
  },
  {
   "cell_type": "code",
   "execution_count": 119,
   "metadata": {},
   "outputs": [],
   "source": [
    "img = cv2.imread('cat_text.jpg')\n",
    "blur = cv2.bilateralFilter(img, 15, 75, 75) #img, diameter pixels, область допустимых цветов пикселей, влияние пикселей друг на друга\n",
    "\n",
    "cv2.imshow(\"Image\", blur)\n",
    "cv2.waitKey(0)\n",
    "cv2.destroyAllWindows()"
   ]
  },
  {
   "cell_type": "markdown",
   "metadata": {},
   "source": [
    "№7 собель"
   ]
  },
  {
   "cell_type": "code",
   "execution_count": 121,
   "metadata": {},
   "outputs": [],
   "source": [
    "img = cv2.imread('cat_text.jpg', cv2.IMREAD_GRAYSCALE)\n",
    "\n",
    "rows, cols = img.shape[:2]\n",
    "\n",
    "sobel_horizontal = cv2.Sobel(img, cv2.CV_64F, 1, 0, ksize=1)\n",
    "sobel_vertical = cv2.Sobel(img, cv2.CV_64F, 0, 1, ksize=1)\n",
    "\n",
    "cv2.imshow(\"Image\", sobel_vertical)\n",
    "cv2.waitKey(0)\n",
    "cv2.destroyAllWindows()"
   ]
  },
  {
   "cell_type": "markdown",
   "metadata": {},
   "source": [
    "№7 лаплас"
   ]
  },
  {
   "cell_type": "code",
   "execution_count": 122,
   "metadata": {},
   "outputs": [],
   "source": [
    "img = cv2.imread('cat_text.jpg', cv2.IMREAD_GRAYSCALE)\n",
    "\n",
    "laplacian = cv2.Laplacian(img, cv2.CV_64F)\n",
    "\n",
    "cv2.imshow(\"Image\", laplacian)\n",
    "cv2.waitKey(0)\n",
    "cv2.destroyAllWindows()"
   ]
  },
  {
   "cell_type": "markdown",
   "metadata": {},
   "source": [
    "№7 канни"
   ]
  },
  {
   "cell_type": "code",
   "execution_count": 124,
   "metadata": {},
   "outputs": [],
   "source": [
    "img = cv2.imread('cat_text.jpg', cv2.IMREAD_GRAYSCALE)\n",
    "\n",
    "canny = cv2.Canny(img, 50, 240) # порог минимума, максимума -> поиск границ\n",
    "\n",
    "cv2.imshow(\"Image\", canny)\n",
    "cv2.waitKey(0)\n",
    "cv2.destroyAllWindows()"
   ]
  }
 ],
 "metadata": {
  "kernelspec": {
   "display_name": "cv_labs",
   "language": "python",
   "name": "python3"
  },
  "language_info": {
   "codemirror_mode": {
    "name": "ipython",
    "version": 3
   },
   "file_extension": ".py",
   "mimetype": "text/x-python",
   "name": "python",
   "nbconvert_exporter": "python",
   "pygments_lexer": "ipython3",
   "version": "3.7.6"
  }
 },
 "nbformat": 4,
 "nbformat_minor": 2
}
