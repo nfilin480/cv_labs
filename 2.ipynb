{
 "cells": [
  {
   "cell_type": "code",
   "execution_count": 2,
   "metadata": {},
   "outputs": [],
   "source": [
    "import numpy as np\n",
    "import cv2"
   ]
  },
  {
   "cell_type": "markdown",
   "metadata": {},
   "source": [
    "2.2"
   ]
  },
  {
   "cell_type": "code",
   "execution_count": 75,
   "metadata": {},
   "outputs": [],
   "source": [
    "class Image:\n",
    "    def __init__(self, path):\n",
    "        self.img = cv2.imread(path)\n",
    "\n",
    "        # Проверяем, что изображение не менее 1000x800 пикселей\n",
    "        if self.img.shape[0] < 1000 or self.img.shape[1] < 800:\n",
    "            print(\"Изображение должно быть не менее 1000x800 пикселей.\")\n",
    "            exit()\n",
    "\n",
    "    def show(self):\n",
    "        cv2.imshow('image', self.img)\n",
    "        cv2.waitKey(0)\n",
    "        cv2.destroyAllWindows()\n",
    "\n",
    "    def evclidean_rotate(self, angle):\n",
    "        M = cv2.getRotationMatrix2D((self.img.shape[1] / 2.0, self.img.shape[0] / 2.0), angle, 1) #center, angle, scale\n",
    "        self.img = cv2.warpAffine(self.img, M, (self.img.shape[0], self.img.shape[1]))\n",
    "\n",
    "    def evclidean_move(self, x, y):\n",
    "        M = np.float32([[1, 0, x], [0, 1, y]])\n",
    "        self.img = cv2.warpAffine(self.img, M, (self.img.shape[0], self.img.shape[1]))\n",
    "\n",
    "    def affine_form(self, scale):\n",
    "\n",
    "        rows, cols = self.img.shape[:2]\n",
    "        src_points = np.float32([[0, 0], [cols - 1, 0], [0, rows - 1]])\n",
    "        dst_points = np.float32( [[0, 0], [int(0.6 * (cols - 1)), 0], [int(0.4 * (cols - 1)), rows]])\n",
    "        affine_matrix = cv2.getAffineTransform(src_points, dst_points)\n",
    "        self.img = cv2.warpAffine(self.img, affine_matrix, (cols,rows))\n"
   ]
  },
  {
   "cell_type": "code",
   "execution_count": 77,
   "metadata": {},
   "outputs": [],
   "source": [
    "path = './cat.jpg'\n",
    "cat = Image(path)\n",
    "#cat.evclidean_rotate(45)\n",
    "#cat.evclidean_rotate(45)\n",
    "cat.affine_form(1.5)\n",
    "cat.show()"
   ]
  },
  {
   "cell_type": "markdown",
   "metadata": {},
   "source": [
    "2.3"
   ]
  },
  {
   "cell_type": "code",
   "execution_count": null,
   "metadata": {},
   "outputs": [],
   "source": [
    "#Affine transformations"
   ]
  },
  {
   "cell_type": "code",
   "execution_count": 56,
   "metadata": {},
   "outputs": [],
   "source": []
  },
  {
   "cell_type": "markdown",
   "metadata": {},
   "source": [
    "2.4"
   ]
  },
  {
   "cell_type": "code",
   "execution_count": 78,
   "metadata": {},
   "outputs": [
    {
     "name": "stdout",
     "output_type": "stream",
     "text": [
      "(1200, 1200, 3)\n"
     ]
    }
   ],
   "source": [
    "path = './cat.jpg'\n",
    "img = cv2.imread(path)\n",
    "\n",
    "n_rows, n_cols, n_channels = img.shape\n",
    "print(img.shape)\n",
    "img_top_left = img[0 : int(n_rows / 2), : int(n_cols / 2)] #x1, x2 : y1, y2\n",
    "img_top_left[:, :, 0] = 0  #занулить Blue\n",
    "\n",
    "img_top_right = img[0 : int(n_rows / 2) , int(n_cols / 2) : n_cols]\n",
    "img_top_right[:] = img_top_right[::-1] # -1 - перевернуть \n",
    "\n",
    "img_down_left = img[int(n_rows / 2) : n_rows, : int(n_cols / 2)]\n",
    "#img_top_right[:] = img_top_right[::-1]\n",
    "\n",
    "\n",
    "img_down_right = img[int(n_rows / 2) : n_rows, int(n_cols / 2) : n_cols]\n",
    "\n",
    "img_down_left[:] = cv2.add(img_down_left, img_down_right)\n",
    "\n",
    "img_down_right[100 : 200, 100 : 200] = img_top_left[200 : 300, 100 : 200]\n",
    "img_down_right[250 : 350, 300 : 400] = img_top_right[100 : 200, 100 : 200]\n",
    "img_down_right[400 : 500, 400 : 500] = img_down_left[100 : 200, 100 : 200]\n",
    "\n",
    "cv2.copyMakeBorder(img, 10, 10, 10, 10, cv2.BORDER_CONSTANT, value=(0, 0, 0))\n",
    "\n",
    "#img_left[:] = img_left[::-1]\n",
    "cv2.imshow(\"Image\", img)\n",
    "cv2.waitKey(0)\n",
    "cv2.destroyAllWindows()\n"
   ]
  },
  {
   "cell_type": "markdown",
   "metadata": {},
   "source": [
    "2.5"
   ]
  },
  {
   "cell_type": "code",
   "execution_count": 80,
   "metadata": {},
   "outputs": [],
   "source": [
    "# Создайте новое изображение\n",
    "img = np.zeros((512, 512, 3), dtype='uint8')\n",
    "\n",
    "# Нарисуйте прямоугольник\n",
    "cv2.rectangle(img, (100, 100), (300, 300), (0, 255, 0), 2)\n",
    "\n",
    "# Нарисуйте многоугольник\n",
    "pts = np.array([[150, 150], [300, 150], [300, 300], [150, 300]], np.int32)\n",
    "pts = pts.reshape((-1, 1, 2))\n",
    "cv2.polylines(img, [pts], True, (0, 0, 255))\n",
    "\n",
    "# Нарисуйте окружность\n",
    "cv2.circle(img, (256, 256), 50, (255, 0, 0), 2)\n",
    "\n",
    "# Нарисуйте эллипс\n",
    "cv2.ellipse(img, (256, 256), (100, 50), 0, 0, 360, (0, 0, 255), 2)\n",
    "\n",
    "# Добавьте текст\n",
    "cv2.putText(img, 'Hello, World!', (100, 400), cv2.FONT_HERSHEY_SIMPLEX, 2, (255, 255, 255), 2)\n",
    "\n",
    "cv2.imshow(\"Image\", img)\n",
    "cv2.waitKey(0)\n",
    "cv2.destroyAllWindows()"
   ]
  }
 ],
 "metadata": {
  "kernelspec": {
   "display_name": "cv_labs",
   "language": "python",
   "name": "python3"
  },
  "language_info": {
   "codemirror_mode": {
    "name": "ipython",
    "version": 3
   },
   "file_extension": ".py",
   "mimetype": "text/x-python",
   "name": "python",
   "nbconvert_exporter": "python",
   "pygments_lexer": "ipython3",
   "version": "3.7.6"
  }
 },
 "nbformat": 4,
 "nbformat_minor": 2
}
