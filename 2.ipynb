{
 "cells": [
  {
   "cell_type": "code",
   "execution_count": 1,
   "metadata": {},
   "outputs": [],
   "source": [
    "import numpy as np\n",
    "import cv2"
   ]
  },
  {
   "cell_type": "code",
   "execution_count": 3,
   "metadata": {},
   "outputs": [
    {
     "ename": "error",
     "evalue": "OpenCV(3.4.2) C:\\projects\\opencv-python\\opencv\\modules\\imgproc\\src\\imgwarp.cpp:2619: error: (-215:Assertion failed) (M0.type() == 5 || M0.type() == 6) && M0.rows == 2 && M0.cols == 3 in function 'cv::warpAffine'\n",
     "output_type": "error",
     "traceback": [
      "\u001b[1;31m---------------------------------------------------------------------------\u001b[0m",
      "\u001b[1;31merror\u001b[0m                                     Traceback (most recent call last)",
      "\u001b[1;32m~\\AppData\\Local\\Temp\\ipykernel_540\\2170331027.py\u001b[0m in \u001b[0;36m<module>\u001b[1;34m\u001b[0m\n\u001b[0;32m     10\u001b[0m \u001b[1;31m# Изменение формы изображения аффинным преобразованием\u001b[0m\u001b[1;33m\u001b[0m\u001b[1;33m\u001b[0m\u001b[1;33m\u001b[0m\u001b[0m\n\u001b[0;32m     11\u001b[0m \u001b[0mM\u001b[0m \u001b[1;33m=\u001b[0m \u001b[0mnp\u001b[0m\u001b[1;33m.\u001b[0m\u001b[0mfloat32\u001b[0m\u001b[1;33m(\u001b[0m\u001b[1;33m[\u001b[0m\u001b[1;33m[\u001b[0m\u001b[1;36m1\u001b[0m\u001b[1;33m,\u001b[0m \u001b[1;36m0.5\u001b[0m\u001b[1;33m]\u001b[0m\u001b[1;33m,\u001b[0m \u001b[1;33m[\u001b[0m\u001b[1;36m0\u001b[0m\u001b[1;33m,\u001b[0m \u001b[1;36m1\u001b[0m\u001b[1;33m]\u001b[0m\u001b[1;33m]\u001b[0m\u001b[1;33m)\u001b[0m\u001b[1;33m\u001b[0m\u001b[1;33m\u001b[0m\u001b[0m\n\u001b[1;32m---> 12\u001b[1;33m \u001b[0mimg_affine\u001b[0m \u001b[1;33m=\u001b[0m \u001b[0mcv2\u001b[0m\u001b[1;33m.\u001b[0m\u001b[0mwarpAffine\u001b[0m\u001b[1;33m(\u001b[0m\u001b[0mimg\u001b[0m\u001b[1;33m,\u001b[0m \u001b[0mM\u001b[0m\u001b[1;33m,\u001b[0m \u001b[1;33m(\u001b[0m\u001b[0mimg\u001b[0m\u001b[1;33m.\u001b[0m\u001b[0mshape\u001b[0m\u001b[1;33m[\u001b[0m\u001b[1;36m1\u001b[0m\u001b[1;33m]\u001b[0m\u001b[1;33m,\u001b[0m \u001b[0mimg\u001b[0m\u001b[1;33m.\u001b[0m\u001b[0mshape\u001b[0m\u001b[1;33m[\u001b[0m\u001b[1;36m0\u001b[0m\u001b[1;33m]\u001b[0m\u001b[1;33m)\u001b[0m\u001b[1;33m)\u001b[0m\u001b[1;33m\u001b[0m\u001b[1;33m\u001b[0m\u001b[0m\n\u001b[0m\u001b[0;32m     13\u001b[0m \u001b[1;33m\u001b[0m\u001b[0m\n\u001b[0;32m     14\u001b[0m \u001b[1;31m# Изменение формы изображения проективным преобразованием\u001b[0m\u001b[1;33m\u001b[0m\u001b[1;33m\u001b[0m\u001b[1;33m\u001b[0m\u001b[0m\n",
      "\u001b[1;31merror\u001b[0m: OpenCV(3.4.2) C:\\projects\\opencv-python\\opencv\\modules\\imgproc\\src\\imgwarp.cpp:2619: error: (-215:Assertion failed) (M0.type() == 5 || M0.type() == 6) && M0.rows == 2 && M0.cols == 3 in function 'cv::warpAffine'\n"
     ]
    }
   ],
   "source": [
    "path = './cat.jpg'\n",
    "\n",
    "# Загружаем изображение\n",
    "img = cv2.imread(path)\n",
    "\n",
    "# Проверяем, что изображение не менее 1000x800 пикселей\n",
    "if img.shape[0] < 1000 or img.shape[1] < 800:\n",
    "    print(\"Изображение должно быть не менее 1000x800 пикселей.\")\n",
    "\n",
    "# Изменение формы изображения аффинным преобразованием\n",
    "M = np.float32([[1, 0.5], [0, 1]])\n",
    "img_affine = cv2.warpAffine(img, M, (img.shape[1], img.shape[0]))\n",
    "\n",
    "# Изменение формы изображения проективным преобразованием\n",
    "M = np.float32([[1, 0.5], [0, 1.5]])\n",
    "img_projective = cv2.warpPerspective(img, M, (img.shape[1], img.shape[0]))\n",
    "\n",
    "# Применение деформации к изображению\n",
    "map_x, map_y = np.meshgrid(np.arange(img.shape[1]), np.arange(img.shape[0]))\n",
    "map_x = map_x + np.sin(map_x / 50)\n",
    "map_y = map_y + np.sin(map_y / 50)\n",
    "img_warp = cv2.remap(img, map_x, map_y, cv2.INTER_LINEAR)\n",
    "\n",
    "# Разделение изображения на четыре части\n",
    "img_parts = np.array_split(img, 4, axis=1)\n",
    "img_parts = [np.array_split(part, 4, axis=0) for part in img_parts]\n",
    "\n",
    "# Обнуление каналов в одной части\n",
    "img_parts[0][0][0] = img_parts[0][0][0]  *  0\n",
    "\n",
    "# Переворот второй части\n",
    "img_parts[1][0] = img_parts[1][0][::-1, :]\n",
    "\n",
    "# Суммирование каналов в третьей части\n",
    "img_parts[2][0] = img_parts[2][0] + img_parts[2][1] + img_parts[2][2]\n",
    "\n",
    "# Вставка фрагментов из других частей в четвертую часть\n",
    "img_parts[3][0][0] = img_parts[3][0][0] + img_parts[0][0][0]\n",
    "img_parts[3][0][1] = img_parts[3][0][1] + img_parts[1][0][0]\n",
    "img_parts[3][0][2] = img_parts[3][0][2] + img_parts[2][0][0]\n",
    "\n",
    "# Объединение частей обратно в изображение\n",
    "img_combined = np.hstack(np.vstack(img_parts))\n",
    "\n",
    "# Вставка изображения в рамку\n",
    "img_with_frame = cv2.copyMakeBorder(img_combined, 10, 10, 10, 10, cv2.BORDER_CONSTANT, value=(0, 0, 0))\n",
    "\n",
    "# Рисование и подписание животного или выдуманного персонажа\n",
    "img_with_animal = img.copy()\n",
    "cv2.rectangle(img_with_animal, (100, 100), (300, 300), (0, 255, 0), 3)\n",
    "cv2.putText(img_with_animal, 'Animal', (150, 250), cv2.FONT_HERSHEY_SIMPLEX, 1, (0, 0, 255), 2)\n",
    "\n",
    "# Вставка изображения с животным на другое изображение\n",
    "img_with_both = cv2.addWeighted(img_with_frame, 0.5, img_with_animal, 0.5, 0)\n",
    "\n",
    "# Сохранение полученного изображения\n",
    "cv2.imwrite('output.jpg', img_with_both)"
   ]
  }
 ],
 "metadata": {
  "kernelspec": {
   "display_name": "cv_labs",
   "language": "python",
   "name": "python3"
  },
  "language_info": {
   "codemirror_mode": {
    "name": "ipython",
    "version": 3
   },
   "file_extension": ".py",
   "mimetype": "text/x-python",
   "name": "python",
   "nbconvert_exporter": "python",
   "pygments_lexer": "ipython3",
   "version": "3.7.6"
  }
 },
 "nbformat": 4,
 "nbformat_minor": 2
}
